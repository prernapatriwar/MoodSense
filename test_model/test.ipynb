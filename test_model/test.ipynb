{
 "cells": [
  {
   "cell_type": "code",
   "execution_count": 5,
   "id": "cb007389",
   "metadata": {},
   "outputs": [
    {
     "name": "stdout",
     "output_type": "stream",
     "text": [
      "                                                text  emotion\n",
      "0  im feeling rather rotten so im not very ambiti...  sadness\n",
      "1          im updating my blog because i feel shitty  sadness\n",
      "2  i never make her separate from me because i do...  sadness\n",
      "3  i left with my bouquet of red and yellow tulip...      joy\n",
      "4    i was feeling a little vain when i did this one  sadness\n"
     ]
    }
   ],
   "source": [
    "import pandas as pd\n",
    "\n",
    "# Load the training, testing, and validation datasets\n",
    "train_data = pd.read_csv(r'/Users/kaustubhmestri/Projects/MoodSense/data/test.txt', sep=';', names=['text','emotion'])\n",
    "test_data = pd.read_csv(r'/Users/kaustubhmestri/Projects/MoodSense/data/train.txt', sep=';', names=['text','emotion'])\n",
    "val_data = pd.read_csv(r'/Users/kaustubhmestri/Projects/MoodSense/data/val.txt', sep=';', names=['text','emotion'])\n",
    "\n",
    "# Check the first few rows\n",
    "print(train_data.head())\n"
   ]
  },
  {
   "cell_type": "code",
   "execution_count": 6,
   "id": "abf94757",
   "metadata": {},
   "outputs": [
    {
     "name": "stdout",
     "output_type": "stream",
     "text": [
      "                                                text  emotion  \\\n",
      "0  im feeling rather rotten so im not very ambiti...  sadness   \n",
      "1          im updating my blog because i feel shitty  sadness   \n",
      "2  i never make her separate from me because i do...  sadness   \n",
      "3  i left with my bouquet of red and yellow tulip...      joy   \n",
      "4    i was feeling a little vain when i did this one  sadness   \n",
      "\n",
      "                                        cleaned_text  \n",
      "0  im feeling rather rotten so im not very ambiti...  \n",
      "1          im updating my blog because i feel shitty  \n",
      "2  i never make her separate from me because i do...  \n",
      "3  i left with my bouquet of red and yellow tulip...  \n",
      "4    i was feeling a little vain when i did this one  \n"
     ]
    },
    {
     "name": "stderr",
     "output_type": "stream",
     "text": [
      "[nltk_data] Downloading package stopwords to\n",
      "[nltk_data]     /Users/kaustubhmestri/nltk_data...\n",
      "[nltk_data]   Unzipping corpora/stopwords.zip.\n"
     ]
    }
   ],
   "source": [
    "import nltk\n",
    "import re\n",
    "\n",
    "# Download stopwords for text cleaning\n",
    "nltk.download('stopwords')\n",
    "from nltk.corpus import stopwords\n",
    "\n",
    "# Function to clean the text\n",
    "def clean_text(text):\n",
    "    text = text.lower()  # lowercase text\n",
    "    text = re.sub(r'[^a-z\\s]', '', text)  # remove non-alphabetic characters\n",
    "    return text\n",
    "\n",
    "# Apply cleaning function to the text data\n",
    "train_data['cleaned_text'] = train_data['text'].apply(clean_text)\n",
    "test_data['cleaned_text'] = test_data['text'].apply(clean_text)\n",
    "val_data['cleaned_text'] = val_data['text'].apply(clean_text)\n",
    "\n",
    "# Check cleaned data\n",
    "print(train_data.head())\n"
   ]
  },
  {
   "cell_type": "code",
   "execution_count": 7,
   "id": "4ed53396",
   "metadata": {},
   "outputs": [
    {
     "name": "stdout",
     "output_type": "stream",
     "text": [
      "(2000, 4645)\n",
      "(16000, 4645)\n",
      "(2000, 4645)\n"
     ]
    }
   ],
   "source": [
    "from sklearn.feature_extraction.text import TfidfVectorizer\n",
    "\n",
    "# Initialize TF-IDF Vectorizer\n",
    "tfidf = TfidfVectorizer(stop_words=stopwords.words('english'), max_features=5000)\n",
    "\n",
    "# Fit and transform the training data\n",
    "X_train_tfidf = tfidf.fit_transform(train_data['cleaned_text'])\n",
    "\n",
    "# Transform the test and validation data\n",
    "X_test_tfidf = tfidf.transform(test_data['cleaned_text'])\n",
    "X_val_tfidf = tfidf.transform(val_data['cleaned_text'])\n",
    "\n",
    "# Check the shape of the transformed data\n",
    "print(X_train_tfidf.shape)\n",
    "print(X_test_tfidf.shape)\n",
    "print(X_val_tfidf.shape)"
   ]
  },
  {
   "cell_type": "code",
   "execution_count": 8,
   "id": "0056e0b6",
   "metadata": {},
   "outputs": [
    {
     "name": "stdout",
     "output_type": "stream",
     "text": [
      "['anger' 'fear' 'joy' 'love' 'sadness' 'surprise']\n"
     ]
    }
   ],
   "source": [
    "from sklearn.preprocessing import LabelEncoder\n",
    "\n",
    "# Initialize the LabelEncoder\n",
    "label_encoder = LabelEncoder()\n",
    "\n",
    "# Fit the encoder on the training labels and transform them\n",
    "y_train = label_encoder.fit_transform(train_data['emotion'])\n",
    "y_test = label_encoder.transform(test_data['emotion'])\n",
    "y_val = label_encoder.transform(val_data['emotion'])\n",
    "\n",
    "# Check label encoding\n",
    "print(label_encoder.classes_)\n"
   ]
  },
  {
   "cell_type": "code",
   "execution_count": 10,
   "id": "a694d5fe",
   "metadata": {},
   "outputs": [
    {
     "name": "stdout",
     "output_type": "stream",
     "text": [
      "Accuracy on Test Data: 0.645875\n",
      "Classification Report:\n",
      "              precision    recall  f1-score   support\n",
      "\n",
      "           0       0.90      0.35      0.50      2159\n",
      "           1       0.83      0.27      0.41      1937\n",
      "           2       0.58      0.94      0.71      5362\n",
      "           3       0.90      0.08      0.15      1304\n",
      "           4       0.69      0.84      0.76      4666\n",
      "           5       0.73      0.01      0.03       572\n",
      "\n",
      "    accuracy                           0.65     16000\n",
      "   macro avg       0.77      0.42      0.43     16000\n",
      "weighted avg       0.71      0.65      0.59     16000\n",
      "\n"
     ]
    }
   ],
   "source": [
    "from sklearn.linear_model import LogisticRegression\n",
    "from sklearn.metrics import classification_report, accuracy_score\n",
    "\n",
    "# Initialize Logistic Regression model\n",
    "model = LogisticRegression(max_iter=1000)\n",
    "\n",
    "# Train the model\n",
    "model.fit(X_train_tfidf, y_train)\n",
    "\n",
    "# Make predictions on the test data\n",
    "y_pred = model.predict(X_test_tfidf)\n",
    "\n",
    "# Evaluate the model\n",
    "print(\"Accuracy on Test Data:\", accuracy_score(y_test, y_pred))\n",
    "print(\"Classification Report:\")\n",
    "print(classification_report(y_test, y_pred))\n"
   ]
  },
  {
   "cell_type": "code",
   "execution_count": 11,
   "id": "4f52bcf1",
   "metadata": {},
   "outputs": [
    {
     "data": {
      "text/plain": [
       "['label_encoder.pkl']"
      ]
     },
     "execution_count": 11,
     "metadata": {},
     "output_type": "execute_result"
    }
   ],
   "source": [
    "import joblib\n",
    "\n",
    "# Save the trained model\n",
    "joblib.dump(model, 'sentiment_model.pkl')\n",
    "\n",
    "# Save the TF-IDF vectorizer\n",
    "joblib.dump(tfidf, 'tfidf.pkl')\n",
    "\n",
    "# Save label encoder (optional but useful for inference)\n",
    "joblib.dump(label_encoder, 'label_encoder.pkl')\n"
   ]
  },
  {
   "cell_type": "code",
   "execution_count": null,
   "id": "02db454c",
   "metadata": {},
   "outputs": [],
   "source": []
  }
 ],
 "metadata": {
  "kernelspec": {
   "display_name": "moodsense",
   "language": "python",
   "name": "python3"
  },
  "language_info": {
   "codemirror_mode": {
    "name": "ipython",
    "version": 3
   },
   "file_extension": ".py",
   "mimetype": "text/x-python",
   "name": "python",
   "nbconvert_exporter": "python",
   "pygments_lexer": "ipython3",
   "version": "3.13.5"
  }
 },
 "nbformat": 4,
 "nbformat_minor": 5
}
