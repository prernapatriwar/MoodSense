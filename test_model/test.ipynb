{
 "cells": [
  {
   "cell_type": "code",
   "execution_count": 6,
   "id": "cb007389",
   "metadata": {},
   "outputs": [
    {
     "name": "stdout",
     "output_type": "stream",
     "text": [
      "                                                text  emotion\n",
      "0                            i didnt feel humiliated  sadness\n",
      "1  i can go from feeling so hopeless to so damned...  sadness\n",
      "2   im grabbing a minute to post i feel greedy wrong    anger\n",
      "3  i am ever feeling nostalgic about the fireplac...     love\n",
      "4                               i am feeling grouchy    anger\n"
     ]
    }
   ],
   "source": [
    "import pandas as pd\n",
    "\n",
    "# Load the training, testing, and validation datasets\n",
    "train_data = pd.read_csv(r'D:\\MoodSense\\data\\train.txt', sep=';', names=['text','emotion'])\n",
    "test_data = pd.read_csv(r'D:\\MoodSense\\data\\test.txt', sep=';', names=['text','emotion'])\n",
    "val_data = pd.read_csv(r'D:\\MoodSense\\data\\val.txt', sep=';', names=['text','emotion'])\n",
    "\n",
    "# Check the first few rows\n",
    "print(train_data.head())\n"
   ]
  },
  {
   "cell_type": "code",
   "execution_count": 8,
   "id": "abf94757",
   "metadata": {},
   "outputs": [
    {
     "name": "stdout",
     "output_type": "stream",
     "text": [
      "                                                text  emotion  \\\n",
      "0                            i didnt feel humiliated  sadness   \n",
      "1  i can go from feeling so hopeless to so damned...  sadness   \n",
      "2   im grabbing a minute to post i feel greedy wrong    anger   \n",
      "3  i am ever feeling nostalgic about the fireplac...     love   \n",
      "4                               i am feeling grouchy    anger   \n",
      "\n",
      "                                        cleaned_text  \n",
      "0                            i didnt feel humiliated  \n",
      "1  i can go from feeling so hopeless to so damned...  \n",
      "2   im grabbing a minute to post i feel greedy wrong  \n",
      "3  i am ever feeling nostalgic about the fireplac...  \n",
      "4                               i am feeling grouchy  \n"
     ]
    },
    {
     "name": "stderr",
     "output_type": "stream",
     "text": [
      "[nltk_data] Downloading package stopwords to C:\\Users\\Prerna\n",
      "[nltk_data]     Patriwar\\AppData\\Roaming\\nltk_data...\n",
      "[nltk_data]   Package stopwords is already up-to-date!\n"
     ]
    }
   ],
   "source": [
    "import nltk\n",
    "import re\n",
    "\n",
    "# Download stopwords for text cleaning\n",
    "nltk.download('stopwords')\n",
    "from nltk.corpus import stopwords\n",
    "\n",
    "# Function to clean the text\n",
    "def clean_text(text):\n",
    "    text = text.lower()  # lowercase text\n",
    "    text = re.sub(r'[^a-z\\s]', '', text)  # remove non-alphabetic characters\n",
    "    return text\n",
    "\n",
    "# Apply cleaning function to the text data\n",
    "train_data['cleaned_text'] = train_data['text'].apply(clean_text)\n",
    "test_data['cleaned_text'] = test_data['text'].apply(clean_text)\n",
    "val_data['cleaned_text'] = val_data['text'].apply(clean_text)\n",
    "\n",
    "# Check cleaned data\n",
    "print(train_data.head())\n"
   ]
  },
  {
   "cell_type": "code",
   "execution_count": 12,
   "id": "4ed53396",
   "metadata": {},
   "outputs": [
    {
     "name": "stdout",
     "output_type": "stream",
     "text": [
      "(16000, 5000)\n",
      "(2000, 5000)\n",
      "(2000, 5000)\n"
     ]
    }
   ],
   "source": [
    "from sklearn.feature_extraction.text import TfidfVectorizer\n",
    "\n",
    "# Initialize TF-IDF Vectorizer\n",
    "tfidf = TfidfVectorizer(stop_words=stopwords.words('english'), max_features=5000)\n",
    "\n",
    "# Fit and transform the training data\n",
    "X_train_tfidf = tfidf.fit_transform(train_data['cleaned_text'])\n",
    "\n",
    "# Transform the test and validation data\n",
    "X_test_tfidf = tfidf.transform(test_data['cleaned_text'])\n",
    "X_val_tfidf = tfidf.transform(val_data['cleaned_text'])\n",
    "\n",
    "# Check the shape of the transformed data\n",
    "print(X_train_tfidf.shape)\n",
    "print(X_test_tfidf.shape)\n",
    "print(X_val_tfidf.shape)"
   ]
  },
  {
   "cell_type": "code",
   "execution_count": 13,
   "id": "0056e0b6",
   "metadata": {},
   "outputs": [
    {
     "name": "stdout",
     "output_type": "stream",
     "text": [
      "['anger' 'fear' 'joy' 'love' 'sadness' 'surprise']\n"
     ]
    }
   ],
   "source": [
    "from sklearn.preprocessing import LabelEncoder\n",
    "\n",
    "# Initialize the LabelEncoder\n",
    "label_encoder = LabelEncoder()\n",
    "\n",
    "# Fit the encoder on the training labels and transform them\n",
    "y_train = label_encoder.fit_transform(train_data['emotion'])\n",
    "y_test = label_encoder.transform(test_data['emotion'])\n",
    "y_val = label_encoder.transform(val_data['emotion'])\n",
    "\n",
    "# Check label encoding\n",
    "print(label_encoder.classes_)\n"
   ]
  },
  {
   "cell_type": "code",
   "execution_count": 14,
   "id": "a694d5fe",
   "metadata": {},
   "outputs": [
    {
     "name": "stdout",
     "output_type": "stream",
     "text": [
      "Accuracy on Test Data: 0.87\n",
      "Classification Report:\n",
      "              precision    recall  f1-score   support\n",
      "\n",
      "           0       0.88      0.84      0.86       275\n",
      "           1       0.88      0.81      0.84       224\n",
      "           2       0.85      0.95      0.90       695\n",
      "           3       0.81      0.62      0.70       159\n",
      "           4       0.90      0.92      0.91       581\n",
      "           5       0.87      0.50      0.63        66\n",
      "\n",
      "    accuracy                           0.87      2000\n",
      "   macro avg       0.86      0.77      0.81      2000\n",
      "weighted avg       0.87      0.87      0.87      2000\n",
      "\n"
     ]
    }
   ],
   "source": [
    "from sklearn.linear_model import LogisticRegression\n",
    "from sklearn.metrics import classification_report, accuracy_score\n",
    "\n",
    "# Initialize Logistic Regression model\n",
    "model = LogisticRegression(max_iter=1000)\n",
    "\n",
    "# Train the model\n",
    "model.fit(X_train_tfidf, y_train)\n",
    "\n",
    "# Make predictions on the test data\n",
    "y_pred = model.predict(X_test_tfidf)\n",
    "\n",
    "# Evaluate the model\n",
    "print(\"Accuracy on Test Data:\", accuracy_score(y_test, y_pred))\n",
    "print(\"Classification Report:\")\n",
    "print(classification_report(y_test, y_pred))\n"
   ]
  },
  {
   "cell_type": "code",
   "execution_count": 15,
   "id": "4f52bcf1",
   "metadata": {},
   "outputs": [
    {
     "data": {
      "text/plain": [
       "['label_encoder.pkl']"
      ]
     },
     "execution_count": 15,
     "metadata": {},
     "output_type": "execute_result"
    }
   ],
   "source": [
    "import joblib\n",
    "\n",
    "# Save the trained model\n",
    "joblib.dump(model, 'sentiment_model.pkl')\n",
    "\n",
    "# Save the TF-IDF vectorizer\n",
    "joblib.dump(tfidf, 'tfidf.pkl')\n",
    "\n",
    "# Save label encoder (optional but useful for inference)\n",
    "joblib.dump(label_encoder, 'label_encoder.pkl')\n"
   ]
  }
 ],
 "metadata": {
  "kernelspec": {
   "display_name": "base",
   "language": "python",
   "name": "python3"
  },
  "language_info": {
   "codemirror_mode": {
    "name": "ipython",
    "version": 3
   },
   "file_extension": ".py",
   "mimetype": "text/x-python",
   "name": "python",
   "nbconvert_exporter": "python",
   "pygments_lexer": "ipython3",
   "version": "3.12.4"
  }
 },
 "nbformat": 4,
 "nbformat_minor": 5
}
